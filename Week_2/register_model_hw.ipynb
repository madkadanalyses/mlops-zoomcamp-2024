{
 "cells": [
  {
   "cell_type": "code",
   "execution_count": 1,
   "id": "8c4473c9-63e0-4a7c-b1b1-b8a51322ac1a",
   "metadata": {},
   "outputs": [
    {
     "name": "stderr",
     "output_type": "stream",
     "text": [
      "2024/05/30 18:47:26 WARNING mlflow.utils.autologging_utils: You are using an unsupported version of sklearn. If you encounter errors during autologging, try upgrading / downgrading sklearn to a supported version, or try upgrading MLflow.\n"
     ]
    }
   ],
   "source": [
    "import os\n",
    "import pickle\n",
    "import click\n",
    "import mlflow\n",
    "\n",
    "from mlflow.entities import ViewType\n",
    "from mlflow.tracking import MlflowClient\n",
    "from sklearn.ensemble import RandomForestRegressor\n",
    "from sklearn.metrics import root_mean_squared_error\n",
    "\n",
    "HPO_EXPERIMENT_NAME = \"random-forest-hyperopt\"\n",
    "EXPERIMENT_NAME = \"random-forest-best-models\"\n",
    "RF_PARAMS = ['max_depth', 'n_estimators', 'min_samples_split', 'min_samples_leaf', 'random_state']\n",
    "\n",
    "mlflow.set_tracking_uri(\"http://0.0.0.0:5000\")\n",
    "mlflow.set_experiment(EXPERIMENT_NAME)\n",
    "mlflow.sklearn.autolog()"
   ]
  },
  {
   "cell_type": "code",
   "execution_count": 2,
   "id": "c614d111-fd24-4adc-8adb-3a002db48645",
   "metadata": {},
   "outputs": [],
   "source": [
    "def load_pickle(filename):\n",
    "    with open(filename, \"rb\") as f_in:\n",
    "        return pickle.load(f_in)\n",
    "\n",
    "\n",
    "def train_and_log_model(data_path, params):\n",
    "    X_train, y_train = load_pickle(os.path.join(data_path, \"train.pkl\"))\n",
    "    X_val, y_val = load_pickle(os.path.join(data_path, \"val.pkl\"))\n",
    "    X_test, y_test = load_pickle(os.path.join(data_path, \"test.pkl\"))\n",
    "\n",
    "    with mlflow.start_run():\n",
    "        for param in RF_PARAMS:\n",
    "            params[param] = int(params[param])\n",
    "\n",
    "        rf = RandomForestRegressor(**params)\n",
    "        rf.fit(X_train, y_train)\n",
    "\n",
    "        # Evaluate model on the validation and test sets\n",
    "        val_rmse = root_mean_squared_error(y_val, rf.predict(X_val))\n",
    "        mlflow.log_metric(\"val_rmse\", val_rmse)\n",
    "        test_rmse = root_mean_squared_error(y_test, rf.predict(X_test))\n",
    "        print(test_rmse)\n",
    "        mlflow.log_metric(\"test_rmse\", test_rmse)"
   ]
  },
  {
   "cell_type": "code",
   "execution_count": 7,
   "id": "e3b09c12-76d7-4876-bd3f-0ff1fd509289",
   "metadata": {},
   "outputs": [],
   "source": [
    "data_path = '/home/ubuntu/mlops-zoomcamp/cohorts/2024/02-experiment-tracking/homework/output'"
   ]
  },
  {
   "cell_type": "code",
   "execution_count": 5,
   "id": "cf8be819-850f-4964-bf6a-5e168cf18e69",
   "metadata": {},
   "outputs": [
    {
     "data": {
      "text/plain": [
       "'/home/ubuntu/mlops-zoomcamp/cohorts/2024/02-experiment-tracking/homework'"
      ]
     },
     "execution_count": 5,
     "metadata": {},
     "output_type": "execute_result"
    }
   ],
   "source": [
    "pwd"
   ]
  },
  {
   "cell_type": "code",
   "execution_count": 8,
   "id": "d4b068d9-75ba-4512-8281-6973bd2f153f",
   "metadata": {},
   "outputs": [],
   "source": [
    "top_n = 5"
   ]
  },
  {
   "cell_type": "code",
   "execution_count": 14,
   "id": "720dcfe3-e714-455d-8abd-7c072c516265",
   "metadata": {},
   "outputs": [],
   "source": [
    "client = MlflowClient()"
   ]
  },
  {
   "cell_type": "code",
   "execution_count": 17,
   "id": "a65a26da-3793-4069-8214-4fe56e240f29",
   "metadata": {},
   "outputs": [
    {
     "data": {
      "text/plain": [
       "[<Experiment: artifact_location='/home/ubuntu/mlops-zoomcamp/cohorts/2024/02-experiment-tracking/homework/artifacts/3', creation_time=1717093065290, experiment_id='3', last_update_time=1717093065290, lifecycle_stage='active', name='random-forest-best-models', tags={}>,\n",
       " <Experiment: artifact_location='/home/ubuntu/mlops-zoomcamp/cohorts/2024/02-experiment-tracking/homework/artifacts', creation_time=1717087654894, experiment_id='2', last_update_time=1717087654894, lifecycle_stage='active', name='random_forest_hyperopt', tags={}>,\n",
       " <Experiment: artifact_location='/home/ubuntu/mlops-zoomcamp/cohorts/2024/02-experiment-tracking/homework/mlruns/1', creation_time=1717065533975, experiment_id='1', last_update_time=1717065533975, lifecycle_stage='active', name='ny_green_taxi_2023', tags={}>,\n",
       " <Experiment: artifact_location='/home/ubuntu/mlops-zoomcamp/cohorts/2024/02-experiment-tracking/homework/mlruns/0', creation_time=1717065533965, experiment_id='0', last_update_time=1717065533965, lifecycle_stage='active', name='Default', tags={}>]"
      ]
     },
     "execution_count": 17,
     "metadata": {},
     "output_type": "execute_result"
    }
   ],
   "source": [
    "client.search_experiments()"
   ]
  },
  {
   "cell_type": "code",
   "execution_count": 20,
   "id": "de0c37b1-347c-4035-b1ae-6097676b3d2f",
   "metadata": {},
   "outputs": [
    {
     "data": {
      "text/plain": [
       "<Experiment: artifact_location='/home/ubuntu/mlops-zoomcamp/cohorts/2024/02-experiment-tracking/homework/artifacts', creation_time=1717087654894, experiment_id='2', last_update_time=1717087654894, lifecycle_stage='active', name='random_forest_hyperopt', tags={}>"
      ]
     },
     "execution_count": 20,
     "metadata": {},
     "output_type": "execute_result"
    }
   ],
   "source": [
    "client.get_experiment_by_name('random_forest_hyperopt')"
   ]
  },
  {
   "cell_type": "code",
   "execution_count": 21,
   "id": "01a2e8cf-90f4-4ca6-be34-bd0d5b5c51f6",
   "metadata": {},
   "outputs": [
    {
     "data": {
      "text/plain": [
       "'2'"
      ]
     },
     "execution_count": 21,
     "metadata": {},
     "output_type": "execute_result"
    }
   ],
   "source": [
    "client.get_experiment_by_name('random_forest_hyperopt').experiment_id"
   ]
  },
  {
   "cell_type": "code",
   "execution_count": 23,
   "id": "433e1329-7b86-4f16-8648-f97da3991ba1",
   "metadata": {},
   "outputs": [],
   "source": [
    "experiment = client.get_experiment_by_name('random_forest_hyperopt')"
   ]
  },
  {
   "cell_type": "code",
   "execution_count": 26,
   "id": "d0464f58-c97b-422c-829e-fa916f9e3a56",
   "metadata": {},
   "outputs": [],
   "source": [
    "runs = client.search_runs(experiment_ids=experiment.experiment_id,\n",
    "                   run_view_type=ViewType.ACTIVE_ONLY,\n",
    "                   max_results=top_n,\n",
    "                   order_by=[\"metrics.rmse ASC\"])"
   ]
  },
  {
   "cell_type": "code",
   "execution_count": 27,
   "id": "a3ba598a-9249-46c2-9d22-7c1bcd5c0e45",
   "metadata": {},
   "outputs": [
    {
     "name": "stdout",
     "output_type": "stream",
     "text": [
      "fc982c167f2f4c15b3f3f474bb5d8fe0 top_n_runs\n"
     ]
    },
    {
     "name": "stderr",
     "output_type": "stream",
     "text": [
      "2024/05/30 19:02:53 WARNING mlflow.sklearn: Failed to log training dataset information to MLflow Tracking. Reason: 'numpy.ndarray' object has no attribute 'toarray'\n",
      "2024/05/30 19:03:01 WARNING mlflow.utils.autologging_utils: MLflow autologging encountered a warning: \"/home/ubuntu/anaconda3/envs/ml-ops-exp-tracking/lib/python3.9/site-packages/_distutils_hack/__init__.py:26: UserWarning: Setuptools is replacing distutils.\"\n"
     ]
    },
    {
     "name": "stdout",
     "output_type": "stream",
     "text": [
      "5.567408012462019\n",
      "d4ccbde73720467784819875836a1bf1 top_n_runs\n"
     ]
    },
    {
     "name": "stderr",
     "output_type": "stream",
     "text": [
      "2024/05/30 19:03:07 WARNING mlflow.sklearn: Failed to log training dataset information to MLflow Tracking. Reason: 'numpy.ndarray' object has no attribute 'toarray'\n"
     ]
    },
    {
     "name": "stdout",
     "output_type": "stream",
     "text": [
      "5.58531221803063\n",
      "51b9bc505e6541e1b75ba0c54946c7f0 top_n_runs\n"
     ]
    },
    {
     "name": "stderr",
     "output_type": "stream",
     "text": [
      "2024/05/30 19:03:30 WARNING mlflow.sklearn: Failed to log training dataset information to MLflow Tracking. Reason: 'numpy.ndarray' object has no attribute 'toarray'\n"
     ]
    },
    {
     "name": "stdout",
     "output_type": "stream",
     "text": [
      "5.5921322796760755\n",
      "19e5326e282944d7bd70111ac6dda937 top_n_runs\n"
     ]
    },
    {
     "name": "stderr",
     "output_type": "stream",
     "text": [
      "2024/05/30 19:03:45 WARNING mlflow.sklearn: Failed to log training dataset information to MLflow Tracking. Reason: 'numpy.ndarray' object has no attribute 'toarray'\n"
     ]
    },
    {
     "name": "stdout",
     "output_type": "stream",
     "text": [
      "5.589460017934324\n",
      "8f3c82d15b69402897e351b97c3e399c top_n_runs\n"
     ]
    },
    {
     "name": "stderr",
     "output_type": "stream",
     "text": [
      "2024/05/30 19:04:01 WARNING mlflow.sklearn: Failed to log training dataset information to MLflow Tracking. Reason: 'numpy.ndarray' object has no attribute 'toarray'\n"
     ]
    },
    {
     "name": "stdout",
     "output_type": "stream",
     "text": [
      "5.5941605655803635\n"
     ]
    }
   ],
   "source": [
    "for run in runs:\n",
    "    print(run.info.run_id, \"top_n_runs\")\n",
    "    train_and_log_model(data_path=data_path, params=run.data.params)"
   ]
  },
  {
   "cell_type": "code",
   "execution_count": 29,
   "id": "ba3028ab-23e2-4901-a3ba-15b1929e4621",
   "metadata": {},
   "outputs": [],
   "source": [
    "experiment_2 = client.get_experiment_by_name(EXPERIMENT_NAME)"
   ]
  },
  {
   "cell_type": "code",
   "execution_count": 37,
   "id": "f9ba9c62-4940-4c19-8636-8a99c5a89c76",
   "metadata": {},
   "outputs": [],
   "source": [
    "best_run = client.search_runs(experiment_ids=experiment_2.experiment_id, run_view_type=ViewType.ACTIVE_ONLY, order_by=[\"metrics.test_rmse ASC\"])[0]"
   ]
  },
  {
   "cell_type": "code",
   "execution_count": 39,
   "id": "c844bdaa-9e4a-44e1-a70c-87a561444597",
   "metadata": {},
   "outputs": [],
   "source": [
    "best_run_id = best_run.info.run_id\n",
    "model_uri = f\"runs:/{best_run_id}/model\""
   ]
  },
  {
   "cell_type": "code",
   "execution_count": 40,
   "id": "682cce76-68c1-48ca-8094-a8b09be9743e",
   "metadata": {},
   "outputs": [
    {
     "name": "stderr",
     "output_type": "stream",
     "text": [
      "Successfully registered model 'nyc-green-taxi-2023-RF-regressor'.\n",
      "2024/05/30 19:12:17 INFO mlflow.store.model_registry.abstract_store: Waiting up to 300 seconds for model version to finish creation. Model name: nyc-green-taxi-2023-RF-regressor, version 1\n",
      "Created version '1' of model 'nyc-green-taxi-2023-RF-regressor'.\n"
     ]
    },
    {
     "data": {
      "text/plain": [
       "<ModelVersion: aliases=[], creation_timestamp=1717096337737, current_stage='None', description='', last_updated_timestamp=1717096337737, name='nyc-green-taxi-2023-RF-regressor', run_id='1bd9241a63f64c1f91c1a23025e1aa63', run_link='', source='/home/ubuntu/mlops-zoomcamp/cohorts/2024/02-experiment-tracking/homework/artifacts/3/1bd9241a63f64c1f91c1a23025e1aa63/artifacts/model', status='READY', status_message='', tags={}, user_id='', version='1'>"
      ]
     },
     "execution_count": 40,
     "metadata": {},
     "output_type": "execute_result"
    }
   ],
   "source": [
    "mlflow.register_model(model_uri=model_uri, name=\"nyc-green-taxi-2023-RF-regressor\")"
   ]
  },
  {
   "cell_type": "code",
   "execution_count": null,
   "id": "fa0caa8c-9f8c-489d-8527-105cae306d81",
   "metadata": {},
   "outputs": [],
   "source": []
  }
 ],
 "metadata": {
  "kernelspec": {
   "display_name": "Python 3 (ipykernel)",
   "language": "python",
   "name": "python3"
  },
  "language_info": {
   "codemirror_mode": {
    "name": "ipython",
    "version": 3
   },
   "file_extension": ".py",
   "mimetype": "text/x-python",
   "name": "python",
   "nbconvert_exporter": "python",
   "pygments_lexer": "ipython3",
   "version": "3.9.19"
  }
 },
 "nbformat": 4,
 "nbformat_minor": 5
}
